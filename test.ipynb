{
 "cells": [
  {
   "cell_type": "code",
   "execution_count": 3,
   "metadata": {},
   "outputs": [
    {
     "name": "stdout",
     "output_type": "stream",
     "text": [
      "True\n"
     ]
    }
   ],
   "source": [
    "import pickle\n",
    "USERNAME_TO_CHAT_ID = {}\n",
    "\n",
    "\n",
    "with open('USERNAME_TO_CHAT_ID.pkl', 'wb') as handle:\n",
    "    pickle.dump(USERNAME_TO_CHAT_ID, handle, protocol=pickle.HIGHEST_PROTOCOL)\n",
    "\n",
    "with open('USERNAME_TO_CHAT_ID.pkl', 'rb') as handle:\n",
    "    buf = pickle.load(handle)\n",
    "\n",
    "print( USERNAME_TO_CHAT_ID == buf)"
   ]
  },
  {
   "cell_type": "code",
   "execution_count": 3,
   "metadata": {
    "collapsed": true
   },
   "outputs": [],
   "source": [
    "\n",
    "USERNAME_TO_CHAT_ID = with open('USERNAME_TO_CHAT_ID.pkl', 'rb') as handle:\n",
    "    buf = pickle.load(handle)"
   ]
  },
  {
   "cell_type": "code",
   "execution_count": null,
   "metadata": {
    "collapsed": true
   },
   "outputs": [],
   "source": [
    "./content/releasing-your-creativity.rtf"
   ]
  }
 ],
 "metadata": {
  "kernelspec": {
   "display_name": "Python 3",
   "language": "python",
   "name": "python3"
  },
  "language_info": {
   "codemirror_mode": {
    "name": "ipython",
    "version": 3
   },
   "file_extension": ".py",
   "mimetype": "text/x-python",
   "name": "python",
   "nbconvert_exporter": "python",
   "pygments_lexer": "ipython3",
   "version": "3.6.1"
  }
 },
 "nbformat": 4,
 "nbformat_minor": 2
}
