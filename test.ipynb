{
 "cells": [
  {
   "cell_type": "code",
   "execution_count": 2,
   "metadata": {},
   "outputs": [],
   "source": [
    "#!/usr/bin/env python\n",
    "# -*- coding: utf-8 -*-\n",
    "\n",
    "\"\"\"\n",
    "\n",
    "\n",
    "\"\"\"\n",
    "\n",
    "from telegram.ext import Updater, CommandHandler, MessageHandler, Filters\n",
    "import logging\n",
    "import telegram\n",
    "from datetime import datetime\n",
    "from threading import Timer\n",
    "\n",
    "# STATICS\n",
    "with open('token.txt', 'r') as token_file:\n",
    "    TELEGRAM_API_TOKEN = token_file.readline().strip()\n",
    "BOT = telegram.Bot(TELEGRAM_API_TOKEN)\n",
    "\n",
    "\n",
    "ON_START_MESSAGE = \"Привет, Маш. Меня зовут Джеронимо. Я хочу помочь тебе стать писательницей!\"\n",
    "ON_HELP_MESSAGE = \"Спроси у Жени \\n https://t.me/TumanovEvgeny\"\n",
    "ON_MESSAGE = \"Пока что, я буду писать тебе в определенные часы. Я еще не умею поддерживать естественный диалог :)\"\n",
    "NON_FAMILY_REPLY = \"Я покамест являюсь закрытым ботом. Извините :).\"\n",
    "CONTENT_PROVIDERS_USERNAMES = [\"TumanovEvgeny\"]\n",
    "CONTENT_RECEIVERS_USERNAMES = [\"MariaTeryoshkina\"]\n",
    "USERNAME_TO_CHAT_ID = {}\n",
    "\n",
    "# Enable logging\n",
    "logging.basicConfig(format='%(asctime)s - %(name)s - %(levelname)s - %(message)s',\n",
    "                    level=logging.INFO)\n",
    "\n",
    "logger = logging.getLogger(__name__)\n",
    "\n"
   ]
  },
  {
   "cell_type": "code",
   "execution_count": 3,
   "metadata": {
    "collapsed": true
   },
   "outputs": [],
   "source": [
    "updater = Updater(TELEGRAM_API_TOKEN)"
   ]
  },
  {
   "cell_type": "code",
   "execution_count": null,
   "metadata": {
    "collapsed": true
   },
   "outputs": [],
   "source": []
  }
 ],
 "metadata": {
  "kernelspec": {
   "display_name": "Python 3",
   "language": "python",
   "name": "python3"
  },
  "language_info": {
   "codemirror_mode": {
    "name": "ipython",
    "version": 3
   },
   "file_extension": ".py",
   "mimetype": "text/x-python",
   "name": "python",
   "nbconvert_exporter": "python",
   "pygments_lexer": "ipython3",
   "version": "3.6.1"
  }
 },
 "nbformat": 4,
 "nbformat_minor": 2
}
